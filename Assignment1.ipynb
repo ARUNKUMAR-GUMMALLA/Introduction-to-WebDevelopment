{
  "nbformat": 4,
  "nbformat_minor": 0,
  "metadata": {
    "colab": {
      "provenance": []
    },
    "kernelspec": {
      "name": "python3",
      "display_name": "Python 3"
    },
    "language_info": {
      "name": "python"
    }
  },
  "cells": [
    {
      "cell_type": "code",
      "execution_count": null,
      "metadata": {
        "id": "oq2dMJSjKxbg"
      },
      "outputs": [],
      "source": []
    },
    {
      "cell_type": "markdown",
      "source": [
        "# Introduction to Web Development."
      ],
      "metadata": {
        "id": "IzihGpAIMJs_"
      }
    },
    {
      "cell_type": "markdown",
      "source": [
        "1. Explain the main components of client-server architecture and their functions.\n",
        "\n",
        " -> There are mainly FOUR components in client-server architecture.Those are,\n",
        "- Client:- End user's device that interacts with the server.\n",
        "- Server:- Centralized computer that provides resources and services to clients.\n",
        "- Request/Response:- Client sends request and server responds with data.\n",
        "- Statelessness:- Each request from a client to a server is independent."
      ],
      "metadata": {
        "id": "Uvu_hzF_MVth"
      }
    },
    {
      "cell_type": "markdown",
      "source": [
        "2. Discuss the various career paths available after completing a web development course.\n",
        "\n",
        " ->There are mainly 5 famous career paths that are available after completing\n",
        " a web development course.Those are,\n",
        "\n",
        "- Front-End Developer:- Focuses on user interface and visual aspects.\n",
        "- Back-End Developer:- Manages server-side logic, databases, and application integration.\n",
        "- Full-Stack Developer:- Skilled in both front-end and back-end development.\n",
        "- Web Designer:- Specializes in the designing and layout of the websites.\n",
        "- Web Administrator:- Manages the web servers and ensures the website performance and website security."
      ],
      "metadata": {
        "id": "BuegPIiEOnfQ"
      }
    },
    {
      "cell_type": "markdown",
      "source": [
        "3. Describe the role of a web browser's developer tools in web development.\n",
        "\n",
        "- Web browser's developer tools plays a very important key role in web development.\n",
        "- Mainly browsers like Chrome and Mozilla Firefox which consists of in-built developer tools that helps the web developer a lot to understand the process.\n",
        "- And these developer tools allows us to inspect the HTML / CSS and also debugging of JavaScript.\n",
        "- We can also monitor the network requests and can improve the performance."
      ],
      "metadata": {
        "id": "LL2CO_7WQcdY"
      }
    },
    {
      "cell_type": "markdown",
      "source": [
        "4. What are the advantages of using a Version Control System like Git in a development project?\n",
        "\n",
        " ->By using Git in a development project we can,\n",
        "- Tracks changes to our files over time.\n",
        "- Enables us to collaborate between multiple developers.\n",
        "- Provides us some key features like branching, merging and version history.\n",
        "- Ensures efficient management of changes."
      ],
      "metadata": {
        "id": "dYZdfRAsSRSp"
      }
    },
    {
      "cell_type": "markdown",
      "source": [
        "5. Compare and contrast a text editor and an IDE, highlighting their key features and uses.\n",
        "\n",
        "- Text Editor: Text Editor is a simple tool that can be used for writing a code (Examples like Notepad++  and Sublime Text).\n",
        "- Text Editor is a web app that lets you create, open, and edit text files on your computer and Google Drive.\n",
        "- It supports syntax highlighting, word wrap, themes, keyboard shortcuts, and more features\n",
        "- IDE: IDE(Integrated Development Environment) provides us the robust environment with key features like debugging, version control and project management (EXamples like Visual Studio Code and IntelliJ IDEA).\n",
        "- And some important key features that we can have in IDE are Text autocompletion,Importing libraries and Syntax highlighting."
      ],
      "metadata": {
        "id": "_svHrq5jTLi_"
      }
    },
    {
      "cell_type": "markdown",
      "source": [],
      "metadata": {
        "id": "mvh8sd6IrZ0W"
      }
    }
  ]
}